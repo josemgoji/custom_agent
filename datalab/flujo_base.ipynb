{
 "cells": [
  {
   "cell_type": "markdown",
   "id": "ed29e012",
   "metadata": {},
   "source": [
    "## Para muestra random de preguntas"
   ]
  },
  {
   "cell_type": "code",
   "execution_count": null,
   "id": "bcdd306c",
   "metadata": {},
   "outputs": [],
   "source": [
    "import random\n",
    "\n",
    "preguntas = [q for q in quiz_preguntas if q[\"nivel\"] == nivel]\n",
    "muestra = random.sample(preguntas, k=min(2, len(preguntas)))"
   ]
  },
  {
   "cell_type": "markdown",
   "id": "36aa56eb",
   "metadata": {},
   "source": [
    "# Implementar nodo inicial "
   ]
  },
  {
   "cell_type": "code",
   "execution_count": 1,
   "id": "2156476c",
   "metadata": {},
   "outputs": [],
   "source": [
    "from langgraph.graph import StateGraph, END\n",
    "from pydantic import BaseModel\n",
    "from typing import List, Optional\n",
    "import random\n",
    "from IPython.display import Image, display\n",
    "\n",
    "# 1. Definir el esquema del estado\n",
    "class Estado(BaseModel):\n",
    "    modo: Optional[str] = None\n",
    "    nivel: Optional[str] = None\n",
    "    temas: Optional[List[str]] = []\n",
    "    tema_actual: Optional[int] = 0\n",
    "    ultima_pregunta: Optional[str] = None  \n",
    "    aprobo_repaso: Optional[bool] = None\n",
    "\n",
    "# 2. Preguntas de ejemplo para el quiz de nivel\n",
    "quiz_preguntas = [\n",
    "    {\"pregunta\": \"¿Qué es una variable aleatoria?\", \"nivel\": \"basico\"},\n",
    "    {\"pregunta\": \"¿Qué es la desviación estándar?\", \"nivel\": \"intermedio\"},\n",
    "    {\"pregunta\": \"¿Cómo se calcula la probabilidad conjunta de dos eventos independientes?\", \"nivel\": \"avanzado\"},\n",
    "]\n",
    "\n",
    "# 3. Temas por nivel\n",
    "temas_por_nivel = {\n",
    "    \"basico\": [\"Conceptos básicos de probabilidad\", \"Variables aleatorias\", \"Distribuciones simples\"],\n",
    "    \"intermedio\": [\"Estadística descriptiva\", \"Medidas de dispersión\", \"Desviación estándar\"],\n",
    "    \"avanzado\": [\"Probabilidad conjunta\", \"Teorema de Bayes\", \"Distribuciones avanzadas\"]\n",
    "}\n",
    "\n",
    "# 4. Nodos del grafo\n",
    "def nodo_inicio(state: Estado) -> Estado:\n",
    "    respuesta = input(\"¿Quieres aprender de forma guiada o prefieres hacer preguntas libres? (guiado/libre): \")\n",
    "    state.modo = respuesta.strip().lower()\n",
    "    return state\n",
    "\n",
    "def nodo_quiz_nivel(state: Estado) -> Estado:\n",
    "    print(\"\\nVamos a hacer un quiz para conocer tu nivel.\")\n",
    "    puntaje = 0\n",
    "    for q in quiz_preguntas:\n",
    "        resp = input(q[\"pregunta\"] + \" (responde brevemente): \")\n",
    "        # Aquí podrías poner lógica para evaluar la respuesta, por ahora sumamos 1 por cada respuesta\n",
    "        puntaje += 1  # Simulación\n",
    "    # Lógica simple para determinar el nivel\n",
    "    if puntaje <= 1:\n",
    "        nivel = \"basico\"\n",
    "    elif puntaje == 2:\n",
    "        nivel = \"intermedio\"\n",
    "    else:\n",
    "        nivel = \"avanzado\"\n",
    "    state.nivel = nivel\n",
    "    return state\n",
    "\n",
    "def nodo_plan_estudio(state: Estado) -> Estado:\n",
    "    nivel = state.nivel\n",
    "    print(f\"\\nTu nivel es: {nivel}. Estos son los temas que vamos a estudiar:\")\n",
    "    for tema in temas_por_nivel[nivel]:\n",
    "        print(\"-\", tema)\n",
    "    state.temas = temas_por_nivel[nivel]\n",
    "    state.tema_actual = 0  # Empezamos por el primer tema\n",
    "    return state\n",
    "\n",
    "def nodo_explicar_tema(state: Estado) -> Estado:\n",
    "    temas = state.temas\n",
    "    idx = state.tema_actual\n",
    "    if idx < len(temas):\n",
    "        print(f\"\\nExplicando tema: {temas[idx]}\")\n",
    "        # Aquí luego se integrará RAG para explicar el tema\n",
    "        return state\n",
    "    else:\n",
    "        print(\"\\n¡Terminaste todos los temas de este nivel!\")\n",
    "        return state\n",
    "\n",
    "def nodo_preguntas_tema(state: Estado) -> Estado:\n",
    "    pregunta = input(\"\\n¿Tienes alguna duda sobre este tema? (escribe tu pregunta o 'no' para continuar): \")\n",
    "    state.ultima_pregunta = pregunta.strip().lower()\n",
    "    if state.ultima_pregunta in [\"no\", \"ninguna\", \"no tengo dudas\"]:\n",
    "        state.tema_actual += 1  # Avanza al siguiente tema solo si no hay dudas\n",
    "    else:\n",
    "        print(\"Respuesta del agente: (Aquí irá la respuesta usando RAG en el futuro)\")\n",
    "    return state\n",
    "\n",
    "\n",
    "def nodo_quiz_repaso(state: Estado) -> Estado:\n",
    "    nivel = state.nivel\n",
    "    print(f\"\\nQuiz de repaso para el nivel {nivel}.\")\n",
    "    preguntas = [q for q in quiz_preguntas if q[\"nivel\"] == nivel]\n",
    "    # Si solo hay una pregunta, la toma; si hay más, puedes tomar una muestra aleatoria si quieres\n",
    "    muestra = random.sample(preguntas, k=1) if len(preguntas) > 0 else []\n",
    "    puntaje = 0\n",
    "    for q in muestra:\n",
    "        resp = input(q[\"pregunta\"] + \" (responde brevemente): \")\n",
    "        # Simulación de corrección: pregunta al usuario si cree que respondió bien\n",
    "        correcto = input(\"¿Respondiste correctamente? (si/no): \").strip().lower()\n",
    "        if correcto == \"si\":\n",
    "            puntaje += 1\n",
    "    # Si contestó bien la(s) pregunta(s), aprueba\n",
    "    if puntaje == len(muestra) and len(muestra) > 0:\n",
    "        print(\"¡Felicidades, aprobaste el quiz de repaso!\")\n",
    "        state.aprobo_repaso = True\n",
    "    else:\n",
    "        print(\"No aprobaste el quiz de repaso. Repasaremos los temas.\")\n",
    "        state.aprobo_repaso = False\n",
    "    return state\n",
    "\n",
    "def nodo_libre(state: Estado) -> Estado:\n",
    "    print(\"\\nHas elegido preguntas libres. Aquí puedes preguntar lo que quieras...\")\n",
    "    return state\n",
    "\n",
    "# 5. Crear el grafo de estados\n",
    "graph = StateGraph(Estado)\n",
    "\n",
    "# 6. Añadir nodos\n",
    "graph.add_node(\"inicio\", nodo_inicio)\n",
    "graph.add_node(\"quiz_nivel\", nodo_quiz_nivel)\n",
    "graph.add_node(\"plan_estudio\", nodo_plan_estudio)\n",
    "graph.add_node(\"explicar_tema\", nodo_explicar_tema)\n",
    "graph.add_node(\"preguntas_tema\", nodo_preguntas_tema)\n",
    "graph.add_node(\"quiz_repaso\", nodo_quiz_repaso)\n",
    "graph.add_node(\"libre\", nodo_libre)\n",
    "\n",
    "# 7. Definir transiciones\n",
    "def transicion_inicio(state: Estado):\n",
    "    if state.modo == \"si\":\n",
    "        return \"quiz_nivel\"\n",
    "    else:\n",
    "        return \"libre\"\n",
    "\n",
    "def transicion_quiz_nivel(state: Estado):\n",
    "    return \"plan_estudio\"\n",
    "\n",
    "def transicion_plan_estudio(state: Estado):\n",
    "    return \"explicar_tema\"\n",
    "\n",
    "def transicion_explicar_tema(state: Estado):\n",
    "    return \"preguntas_tema\"\n",
    "\n",
    "def transicion_preguntas_tema(state: Estado):\n",
    "    temas = state.temas\n",
    "    idx = state.tema_actual\n",
    "    if idx < len(temas):\n",
    "        return \"explicar_tema\"\n",
    "    else:\n",
    "        return \"quiz_repaso\"\n",
    "\n",
    "def transicion_quiz_repaso(state: Estado):\n",
    "    niveles = [\"basico\", \"intermedio\", \"avanzado\"]\n",
    "    idx_nivel = niveles.index(state.nivel)\n",
    "    if state.aprobo_repaso:\n",
    "        if idx_nivel + 1 < len(niveles):\n",
    "            # Avanza al siguiente nivel\n",
    "            state.nivel = niveles[idx_nivel + 1]\n",
    "            state.temas = temas_por_nivel[state.nivel]\n",
    "            state.tema_actual = 0\n",
    "            return \"plan_estudio\"\n",
    "        else:\n",
    "            print(\"\\n¡Felicidades, completaste todos los niveles! Ahora puedes hacer preguntas libres.\")\n",
    "            return \"libre\"\n",
    "    else:\n",
    "        # Repite el mismo nivel\n",
    "        state.tema_actual = 0\n",
    "        return \"plan_estudio\"\n",
    "\n",
    "# 8. Agregar transiciones al grafo\n",
    "graph.add_conditional_edges(\"inicio\", transicion_inicio, path_map={\"quiz_nivel\": \"quiz_nivel\", \"libre\": \"libre\"})\n",
    "graph.add_edge(\"quiz_nivel\", \"plan_estudio\")\n",
    "graph.add_edge(\"plan_estudio\", \"explicar_tema\")\n",
    "graph.add_edge(\"explicar_tema\", \"preguntas_tema\")\n",
    "graph.add_conditional_edges(\"preguntas_tema\", transicion_preguntas_tema, path_map={\"explicar_tema\": \"explicar_tema\", \"quiz_repaso\": \"quiz_repaso\"})\n",
    "graph.add_conditional_edges(\"quiz_repaso\", transicion_quiz_repaso, path_map={\"plan_estudio\": \"plan_estudio\", \"libre\": \"libre\"})\n",
    "graph.add_edge(\"libre\", END)\n",
    "\n",
    "# 9. Definir el nodo inicial y compilar\n",
    "graph.set_entry_point(\"inicio\")\n",
    "app = graph.compile()\n",
    "\n",
    "# 10. Ejecutar el grafo\n",
    "state = Estado()"
   ]
  },
  {
   "cell_type": "code",
   "execution_count": 3,
   "id": "033e78e3",
   "metadata": {},
   "outputs": [
    {
     "name": "stdout",
     "output_type": "stream",
     "text": [
      "\n",
      "Has elegido preguntas libres. Aquí puedes preguntar lo que quieras...\n"
     ]
    },
    {
     "data": {
      "text/plain": [
       "{'modo': 'no', 'temas': [], 'tema_actual': 0}"
      ]
     },
     "execution_count": 3,
     "metadata": {},
     "output_type": "execute_result"
    }
   ],
   "source": [
    "app.invoke(state)"
   ]
  },
  {
   "cell_type": "code",
   "execution_count": 5,
   "id": "3a70506b",
   "metadata": {},
   "outputs": [
    {
     "data": {
      "text/plain": [
       "<generator object Pregel.stream at 0x0000020DBE19D540>"
      ]
     },
     "execution_count": 5,
     "metadata": {},
     "output_type": "execute_result"
    }
   ],
   "source": [
    "app.stream(state)"
   ]
  },
  {
   "cell_type": "code",
   "execution_count": 6,
   "id": "ea5493a5",
   "metadata": {},
   "outputs": [],
   "source": [
    "imagen = app.get_graph().draw_mermaid_png()"
   ]
  },
  {
   "cell_type": "code",
   "execution_count": 7,
   "id": "20140f4b",
   "metadata": {},
   "outputs": [
    {
     "data": {
      "image/png": "[encoded data removed]",
      "text/plain": [
       "<IPython.core.display.Image object>"
      ]
     },
     "metadata": {},
     "output_type": "display_data"
    }
   ],
   "source": [
    "display(Image(imagen))"
   ]
  },
  {
   "cell_type": "code",
   "execution_count": 4,
   "id": "177231a9",
   "metadata": {},
   "outputs": [
    {
     "name": "stdout",
     "output_type": "stream",
     "text": [
      "Collecting pipreqs\n",
      "  Downloading pipreqs-0.5.0-py3-none-any.whl.metadata (7.9 kB)\n",
      "Collecting docopt==0.6.2 (from pipreqs)\n",
      "  Downloading docopt-0.6.2.tar.gz (25 kB)\n",
      "  Preparing metadata (setup.py): started\n",
      "  Preparing metadata (setup.py): finished with status 'done'\n",
      "Collecting ipython==8.12.3 (from pipreqs)\n",
      "  Downloading ipython-8.12.3-py3-none-any.whl.metadata (5.7 kB)\n",
      "Collecting nbconvert<8.0.0,>=7.11.0 (from pipreqs)\n",
      "  Downloading nbconvert-7.16.6-py3-none-any.whl.metadata (8.5 kB)\n",
      "Collecting yarg==0.1.9 (from pipreqs)\n",
      "  Downloading yarg-0.1.9-py2.py3-none-any.whl.metadata (4.6 kB)\n",
      "Collecting backcall (from ipython==8.12.3->pipreqs)\n",
      "  Downloading backcall-0.2.0-py2.py3-none-any.whl.metadata (2.0 kB)\n",
      "Requirement already satisfied: decorator in c:\\users\\jgome\\miniconda3\\envs\\pytorch_env\\lib\\site-packages (from ipython==8.12.3->pipreqs) (5.2.1)\n",
      "Requirement already satisfied: jedi>=0.16 in c:\\users\\jgome\\miniconda3\\envs\\pytorch_env\\lib\\site-packages (from ipython==8.12.3->pipreqs) (0.19.2)\n",
      "Requirement already satisfied: matplotlib-inline in c:\\users\\jgome\\miniconda3\\envs\\pytorch_env\\lib\\site-packages (from ipython==8.12.3->pipreqs) (0.1.7)\n",
      "Requirement already satisfied: pickleshare in c:\\users\\jgome\\miniconda3\\envs\\pytorch_env\\lib\\site-packages (from ipython==8.12.3->pipreqs) (0.7.5)\n",
      "Requirement already satisfied: prompt-toolkit!=3.0.37,<3.1.0,>=3.0.30 in c:\\users\\jgome\\miniconda3\\envs\\pytorch_env\\lib\\site-packages (from ipython==8.12.3->pipreqs) (3.0.50)\n",
      "Requirement already satisfied: pygments>=2.4.0 in c:\\users\\jgome\\miniconda3\\envs\\pytorch_env\\lib\\site-packages (from ipython==8.12.3->pipreqs) (2.19.1)\n",
      "Requirement already satisfied: stack-data in c:\\users\\jgome\\miniconda3\\envs\\pytorch_env\\lib\\site-packages (from ipython==8.12.3->pipreqs) (0.6.3)\n",
      "Requirement already satisfied: traitlets>=5 in c:\\users\\jgome\\miniconda3\\envs\\pytorch_env\\lib\\site-packages (from ipython==8.12.3->pipreqs) (5.14.3)\n",
      "Requirement already satisfied: colorama in c:\\users\\jgome\\miniconda3\\envs\\pytorch_env\\lib\\site-packages (from ipython==8.12.3->pipreqs) (0.4.6)\n",
      "Requirement already satisfied: requests in c:\\users\\jgome\\miniconda3\\envs\\pytorch_env\\lib\\site-packages (from yarg==0.1.9->pipreqs) (2.32.3)\n",
      "Collecting beautifulsoup4 (from nbconvert<8.0.0,>=7.11.0->pipreqs)\n",
      "  Downloading beautifulsoup4-4.13.4-py3-none-any.whl.metadata (3.8 kB)\n",
      "Collecting bleach!=5.0.0 (from bleach[css]!=5.0.0->nbconvert<8.0.0,>=7.11.0->pipreqs)\n",
      "  Downloading bleach-6.2.0-py3-none-any.whl.metadata (30 kB)\n",
      "Collecting defusedxml (from nbconvert<8.0.0,>=7.11.0->pipreqs)\n",
      "  Downloading defusedxml-0.7.1-py2.py3-none-any.whl.metadata (32 kB)\n",
      "Requirement already satisfied: jinja2>=3.0 in c:\\users\\jgome\\miniconda3\\envs\\pytorch_env\\lib\\site-packages (from nbconvert<8.0.0,>=7.11.0->pipreqs) (3.1.4)\n",
      "Requirement already satisfied: jupyter-core>=4.7 in c:\\users\\jgome\\miniconda3\\envs\\pytorch_env\\lib\\site-packages (from nbconvert<8.0.0,>=7.11.0->pipreqs) (5.7.2)\n",
      "Collecting jupyterlab-pygments (from nbconvert<8.0.0,>=7.11.0->pipreqs)\n",
      "  Downloading jupyterlab_pygments-0.3.0-py3-none-any.whl.metadata (4.4 kB)\n",
      "Requirement already satisfied: markupsafe>=2.0 in c:\\users\\jgome\\miniconda3\\envs\\pytorch_env\\lib\\site-packages (from nbconvert<8.0.0,>=7.11.0->pipreqs) (2.1.5)\n",
      "Collecting mistune<4,>=2.0.3 (from nbconvert<8.0.0,>=7.11.0->pipreqs)\n",
      "  Downloading mistune-3.1.3-py3-none-any.whl.metadata (1.8 kB)\n",
      "Collecting nbclient>=0.5.0 (from nbconvert<8.0.0,>=7.11.0->pipreqs)\n",
      "  Downloading nbclient-0.10.2-py3-none-any.whl.metadata (8.3 kB)\n",
      "Collecting nbformat>=5.7 (from nbconvert<8.0.0,>=7.11.0->pipreqs)\n",
      "  Using cached nbformat-5.10.4-py3-none-any.whl.metadata (3.6 kB)\n",
      "Requirement already satisfied: packaging in c:\\users\\jgome\\miniconda3\\envs\\pytorch_env\\lib\\site-packages (from nbconvert<8.0.0,>=7.11.0->pipreqs) (24.2)\n",
      "Collecting pandocfilters>=1.4.1 (from nbconvert<8.0.0,>=7.11.0->pipreqs)\n",
      "  Downloading pandocfilters-1.5.1-py2.py3-none-any.whl.metadata (9.0 kB)\n",
      "Collecting webencodings (from bleach!=5.0.0->bleach[css]!=5.0.0->nbconvert<8.0.0,>=7.11.0->pipreqs)\n",
      "  Downloading webencodings-0.5.1-py2.py3-none-any.whl.metadata (2.1 kB)\n",
      "Collecting tinycss2<1.5,>=1.1.0 (from bleach[css]!=5.0.0->nbconvert<8.0.0,>=7.11.0->pipreqs)\n",
      "  Downloading tinycss2-1.4.0-py3-none-any.whl.metadata (3.0 kB)\n",
      "Requirement already satisfied: parso<0.9.0,>=0.8.4 in c:\\users\\jgome\\miniconda3\\envs\\pytorch_env\\lib\\site-packages (from jedi>=0.16->ipython==8.12.3->pipreqs) (0.8.4)\n",
      "Requirement already satisfied: platformdirs>=2.5 in c:\\users\\jgome\\miniconda3\\envs\\pytorch_env\\lib\\site-packages (from jupyter-core>=4.7->nbconvert<8.0.0,>=7.11.0->pipreqs) (4.3.6)\n",
      "Requirement already satisfied: pywin32>=300 in c:\\users\\jgome\\miniconda3\\envs\\pytorch_env\\lib\\site-packages (from jupyter-core>=4.7->nbconvert<8.0.0,>=7.11.0->pipreqs) (308)\n",
      "Requirement already satisfied: jupyter-client>=6.1.12 in c:\\users\\jgome\\miniconda3\\envs\\pytorch_env\\lib\\site-packages (from nbclient>=0.5.0->nbconvert<8.0.0,>=7.11.0->pipreqs) (8.6.3)\n",
      "Collecting fastjsonschema>=2.15 (from nbformat>=5.7->nbconvert<8.0.0,>=7.11.0->pipreqs)\n",
      "  Using cached fastjsonschema-2.21.1-py3-none-any.whl.metadata (2.2 kB)\n",
      "Collecting jsonschema>=2.6 (from nbformat>=5.7->nbconvert<8.0.0,>=7.11.0->pipreqs)\n",
      "  Using cached jsonschema-4.23.0-py3-none-any.whl.metadata (7.9 kB)\n",
      "Requirement already satisfied: wcwidth in c:\\users\\jgome\\miniconda3\\envs\\pytorch_env\\lib\\site-packages (from prompt-toolkit!=3.0.37,<3.1.0,>=3.0.30->ipython==8.12.3->pipreqs) (0.2.13)\n",
      "Collecting soupsieve>1.2 (from beautifulsoup4->nbconvert<8.0.0,>=7.11.0->pipreqs)\n",
      "  Downloading soupsieve-2.6-py3-none-any.whl.metadata (4.6 kB)\n",
      "Requirement already satisfied: typing-extensions>=4.0.0 in c:\\users\\jgome\\miniconda3\\envs\\pytorch_env\\lib\\site-packages (from beautifulsoup4->nbconvert<8.0.0,>=7.11.0->pipreqs) (4.12.2)\n",
      "Requirement already satisfied: charset-normalizer<4,>=2 in c:\\users\\jgome\\miniconda3\\envs\\pytorch_env\\lib\\site-packages (from requests->yarg==0.1.9->pipreqs) (3.4.1)\n",
      "Requirement already satisfied: idna<4,>=2.5 in c:\\users\\jgome\\miniconda3\\envs\\pytorch_env\\lib\\site-packages (from requests->yarg==0.1.9->pipreqs) (3.10)\n",
      "Requirement already satisfied: urllib3<3,>=1.21.1 in c:\\users\\jgome\\miniconda3\\envs\\pytorch_env\\lib\\site-packages (from requests->yarg==0.1.9->pipreqs) (2.3.0)\n",
      "Requirement already satisfied: certifi>=2017.4.17 in c:\\users\\jgome\\miniconda3\\envs\\pytorch_env\\lib\\site-packages (from requests->yarg==0.1.9->pipreqs) (2025.1.31)\n",
      "Requirement already satisfied: executing>=1.2.0 in c:\\users\\jgome\\miniconda3\\envs\\pytorch_env\\lib\\site-packages (from stack-data->ipython==8.12.3->pipreqs) (2.1.0)\n",
      "Requirement already satisfied: asttokens>=2.1.0 in c:\\users\\jgome\\miniconda3\\envs\\pytorch_env\\lib\\site-packages (from stack-data->ipython==8.12.3->pipreqs) (3.0.0)\n",
      "Requirement already satisfied: pure_eval in c:\\users\\jgome\\miniconda3\\envs\\pytorch_env\\lib\\site-packages (from stack-data->ipython==8.12.3->pipreqs) (0.2.3)\n",
      "Requirement already satisfied: attrs>=22.2.0 in c:\\users\\jgome\\miniconda3\\envs\\pytorch_env\\lib\\site-packages (from jsonschema>=2.6->nbformat>=5.7->nbconvert<8.0.0,>=7.11.0->pipreqs) (25.1.0)\n",
      "Collecting jsonschema-specifications>=2023.03.6 (from jsonschema>=2.6->nbformat>=5.7->nbconvert<8.0.0,>=7.11.0->pipreqs)\n",
      "  Using cached jsonschema_specifications-2024.10.1-py3-none-any.whl.metadata (3.0 kB)\n",
      "Collecting referencing>=0.28.4 (from jsonschema>=2.6->nbformat>=5.7->nbconvert<8.0.0,>=7.11.0->pipreqs)\n",
      "  Using cached referencing-0.36.2-py3-none-any.whl.metadata (2.8 kB)\n",
      "Collecting rpds-py>=0.7.1 (from jsonschema>=2.6->nbformat>=5.7->nbconvert<8.0.0,>=7.11.0->pipreqs)\n",
      "  Downloading rpds_py-0.24.0-cp312-cp312-win_amd64.whl.metadata (4.2 kB)\n",
      "Requirement already satisfied: python-dateutil>=2.8.2 in c:\\users\\jgome\\miniconda3\\envs\\pytorch_env\\lib\\site-packages (from jupyter-client>=6.1.12->nbclient>=0.5.0->nbconvert<8.0.0,>=7.11.0->pipreqs) (2.9.0.post0)\n",
      "Requirement already satisfied: pyzmq>=23.0 in c:\\users\\jgome\\miniconda3\\envs\\pytorch_env\\lib\\site-packages (from jupyter-client>=6.1.12->nbclient>=0.5.0->nbconvert<8.0.0,>=7.11.0->pipreqs) (26.2.0)\n",
      "Requirement already satisfied: tornado>=6.2 in c:\\users\\jgome\\miniconda3\\envs\\pytorch_env\\lib\\site-packages (from jupyter-client>=6.1.12->nbclient>=0.5.0->nbconvert<8.0.0,>=7.11.0->pipreqs) (6.4.2)\n",
      "Requirement already satisfied: six>=1.5 in c:\\users\\jgome\\miniconda3\\envs\\pytorch_env\\lib\\site-packages (from python-dateutil>=2.8.2->jupyter-client>=6.1.12->nbclient>=0.5.0->nbconvert<8.0.0,>=7.11.0->pipreqs) (1.17.0)\n",
      "Downloading pipreqs-0.5.0-py3-none-any.whl (33 kB)\n",
      "Downloading ipython-8.12.3-py3-none-any.whl (798 kB)\n",
      "   ---------------------------------------- 0.0/798.3 kB ? eta -:--:--\n",
      "   --------------------------------------- 798.3/798.3 kB 17.3 MB/s eta 0:00:00\n",
      "Downloading yarg-0.1.9-py2.py3-none-any.whl (19 kB)\n",
      "Downloading nbconvert-7.16.6-py3-none-any.whl (258 kB)\n",
      "Downloading bleach-6.2.0-py3-none-any.whl (163 kB)\n",
      "Downloading mistune-3.1.3-py3-none-any.whl (53 kB)\n",
      "Downloading nbclient-0.10.2-py3-none-any.whl (25 kB)\n",
      "Using cached nbformat-5.10.4-py3-none-any.whl (78 kB)\n",
      "Downloading pandocfilters-1.5.1-py2.py3-none-any.whl (8.7 kB)\n",
      "Downloading backcall-0.2.0-py2.py3-none-any.whl (11 kB)\n",
      "Downloading beautifulsoup4-4.13.4-py3-none-any.whl (187 kB)\n",
      "Downloading defusedxml-0.7.1-py2.py3-none-any.whl (25 kB)\n",
      "Downloading jupyterlab_pygments-0.3.0-py3-none-any.whl (15 kB)\n",
      "Using cached fastjsonschema-2.21.1-py3-none-any.whl (23 kB)\n",
      "Using cached jsonschema-4.23.0-py3-none-any.whl (88 kB)\n",
      "Downloading soupsieve-2.6-py3-none-any.whl (36 kB)\n",
      "Downloading tinycss2-1.4.0-py3-none-any.whl (26 kB)\n",
      "Downloading webencodings-0.5.1-py2.py3-none-any.whl (11 kB)\n",
      "Using cached jsonschema_specifications-2024.10.1-py3-none-any.whl (18 kB)\n",
      "Using cached referencing-0.36.2-py3-none-any.whl (26 kB)\n",
      "Downloading rpds_py-0.24.0-cp312-cp312-win_amd64.whl (239 kB)\n",
      "Building wheels for collected packages: docopt\n",
      "  Building wheel for docopt (setup.py): started\n",
      "  Building wheel for docopt (setup.py): finished with status 'done'\n",
      "  Created wheel for docopt: filename=docopt-0.6.2-py2.py3-none-any.whl size=13822 sha256=775e8e4de80b8d29e8ff0c36c67ba691749bd44bde70e694c947f605ebcb0fe7\n",
      "  Stored in directory: c:\\users\\jgome\\appdata\\local\\pip\\cache\\wheels\\1a\\bf\\a1\\4cee4f7678c68c5875ca89eaccf460593539805c3906722228\n",
      "Successfully built docopt\n",
      "Installing collected packages: webencodings, fastjsonschema, docopt, backcall, tinycss2, soupsieve, rpds-py, pandocfilters, mistune, jupyterlab-pygments, defusedxml, bleach, yarg, referencing, ipython, beautifulsoup4, jsonschema-specifications, jsonschema, nbformat, nbclient, nbconvert, pipreqs\n",
      "  Attempting uninstall: ipython\n",
      "    Found existing installation: ipython 8.32.0\n",
      "    Uninstalling ipython-8.32.0:\n",
      "      Successfully uninstalled ipython-8.32.0\n",
      "Successfully installed backcall-0.2.0 beautifulsoup4-4.13.4 bleach-6.2.0 defusedxml-0.7.1 docopt-0.6.2 fastjsonschema-2.21.1 ipython-8.12.3 jsonschema-4.23.0 jsonschema-specifications-2024.10.1 jupyterlab-pygments-0.3.0 mistune-3.1.3 nbclient-0.10.2 nbconvert-7.16.6 nbformat-5.10.4 pandocfilters-1.5.1 pipreqs-0.5.0 referencing-0.36.2 rpds-py-0.24.0 soupsieve-2.6 tinycss2-1.4.0 webencodings-0.5.1 yarg-0.1.9\n"
     ]
    }
   ],
   "source": [
    "!pip install pipreqs"
   ]
  },
  {
   "cell_type": "code",
   "execution_count": 13,
   "id": "8acb8121",
   "metadata": {},
   "outputs": [
    {
     "name": "stderr",
     "output_type": "stream",
     "text": [
      "INFO: Not scanning for jupyter notebooks.\n",
      "WARNING: Import named \"langgraph\" not found locally. Trying to resolve it at the PyPI server.\n",
      "WARNING: Import named \"langgraph\" was resolved to \"langgraph:0.3.31\" package (https://pypi.org/project/langgraph/).\n",
      "Please, verify manually the final list of requirements.txt to avoid possible dependency confusions.\n",
      "WARNING: Import named \"pydantic\" not found locally. Trying to resolve it at the PyPI server.\n",
      "WARNING: Import named \"pydantic\" was resolved to \"pydantic:2.11.3\" package (https://pypi.org/project/pydantic/).\n",
      "Please, verify manually the final list of requirements.txt to avoid possible dependency confusions.\n",
      "INFO: Successfully saved requirements file in .\\requirements.txt\n"
     ]
    }
   ],
   "source": [
    "!pipreqs . "
   ]
  },
  {
   "cell_type": "code",
   "execution_count": 8,
   "id": "97f40b4a",
   "metadata": {},
   "outputs": [
    {
     "name": "stderr",
     "output_type": "stream",
     "text": [
      "Usage:\n",
      "    pipreqs [options] [<path>]\n"
     ]
    }
   ],
   "source": [
    "!pipreqs . --ignore-errors --encoding=utf8 --mode=no-pin --include-ipynb"
   ]
  },
  {
   "cell_type": "code",
   "execution_count": 9,
   "id": "720bd1a2",
   "metadata": {},
   "outputs": [
    {
     "name": "stderr",
     "output_type": "stream",
     "text": [
      "Usage:\n",
      "    pipreqs [options] [<path>]\n"
     ]
    }
   ],
   "source": [
    "!pipreqs . --ignore-errors --encoding=utf8 --mode=no-pin --include-ipynb --force --savepath ./requirements.txt"
   ]
  },
  {
   "cell_type": "code",
   "execution_count": null,
   "id": "a6fcd548",
   "metadata": {},
   "outputs": [],
   "source": []
  }
 ],
 "metadata": {
  "kernelspec": {
   "display_name": "pytorch_env",
   "language": "python",
   "name": "python3"
  },
  "language_info": {
   "codemirror_mode": {
    "name": "ipython",
    "version": 3
   },
   "file_extension": ".py",
   "mimetype": "text/x-python",
   "name": "python",
   "nbconvert_exporter": "python",
   "pygments_lexer": "ipython3",
   "version": "3.12.9"
  }
 },
 "nbformat": 4,
 "nbformat_minor": 5
}
