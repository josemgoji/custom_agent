{
 "cells": [
  {
   "cell_type": "code",
   "execution_count": null,
   "id": "a7a2691c",
   "metadata": {},
   "outputs": [],
   "source": [
    "from langgraph.graph import StateGraph, END\n",
    "from pydantic import BaseModel\n",
    "from typing import List, Optional\n",
    "import random\n",
    "from IPython.display import Image, display\n",
    "from dotenv import load_dotenv\n",
    "from langchain.prompts import PromptTemplate\n",
    "from langchain.chains import LLMChain\n",
    "from langchain_openai import ChatOpenAI\n",
    "import os\n",
    "import json\n",
    "from langchain.prompts import ChatPromptTemplate\n",
    "from langchain_core.output_parsers.json import JsonOutputParser\n"
   ]
  },
  {
   "cell_type": "markdown",
   "id": "84acfd61",
   "metadata": {},
   "source": [
    "# Estado"
   ]
  },
  {
   "cell_type": "code",
   "execution_count": null,
   "id": "d690d5bb",
   "metadata": {},
   "outputs": [],
   "source": [
    "class Estado(BaseModel):\n",
    "    modo: Optional[str] = None\n",
    "    input: Optional[str] = None\n",
    "    nivel: Optional[str] = None\n",
    "    temas: Optional[List[str]] = []\n",
    "    tema_actual: Optional[int] = 0\n",
    "    ultima_pregunta: Optional[str] = None  \n",
    "    aprobo_repaso: Optional[bool] = None\n",
    "    fortalezas: Optional[List[str]] = []\n",
    "    debilidades: Optional[List[str]] = []"
   ]
  },
  {
   "cell_type": "markdown",
   "id": "e6066939",
   "metadata": {},
   "source": [
    "# Preguntas Quiz"
   ]
  },
  {
   "cell_type": "code",
   "execution_count": null,
   "id": "cb169295",
   "metadata": {},
   "outputs": [],
   "source": [
    "quiz_preguntas = {\n",
    "    \"basico\": [\n",
    "        {\"tema\": \"Variables aleatorias\", \"pregunta\": \"¿Qué es una variable aleatoria?\"},\n",
    "        {\"tema\": \"Probabilidad\", \"pregunta\": \"¿Qué es la probabilidad clásica?\"},\n",
    "        {\"tema\": \"Distribuciones simples\", \"pregunta\": \"¿Qué es una distribución uniforme?\"},\n",
    "        {\"tema\": \"Eventos\", \"pregunta\": \"¿Qué es un evento en probabilidad?\"}\n",
    "    ],\n",
    "    \"intermedio\": [\n",
    "        {\"tema\": \"Desviación estándar\", \"pregunta\": \"¿Qué es la desviación estándar?\"},\n",
    "        {\"tema\": \"Medidas de dispersión\", \"pregunta\": \"¿Qué es la varianza?\"},\n",
    "        {\"tema\": \"Estadística descriptiva\", \"pregunta\": \"¿Qué es la media aritmética?\"},\n",
    "        {\"tema\": \"Distribuciones\", \"pregunta\": \"¿Qué es una distribución normal?\"}\n",
    "    ],\n",
    "    \"avanzado\": [\n",
    "        {\"tema\": \"Probabilidad conjunta\", \"pregunta\": \"¿Cómo se calcula la probabilidad conjunta de dos eventos independientes?\"},\n",
    "        {\"tema\": \"Teorema de Bayes\", \"pregunta\": \"Explica el teorema de Bayes con un ejemplo.\"},\n",
    "        {\"tema\": \"Distribuciones avanzadas\", \"pregunta\": \"¿Qué es una distribución binomial?\"},\n",
    "        {\"tema\": \"Inferencia\", \"pregunta\": \"¿Qué es una estimación puntual en inferencia estadística?\"}\n",
    "    ]\n",
    "}"
   ]
  },
  {
   "cell_type": "markdown",
   "id": "64614168",
   "metadata": {},
   "source": [
    "# Temas por nivel"
   ]
  },
  {
   "cell_type": "code",
   "execution_count": null,
   "id": "7a468eb4",
   "metadata": {},
   "outputs": [],
   "source": [
    "temas_por_nivel = {\n",
    "    \"basico\": [\"Conceptos básicos de probabilidad\", \"Variables aleatorias\", \"Distribuciones simples\"],\n",
    "    \"intermedio\": [\"Estadística descriptiva\", \"Medidas de dispersión\", \"Desviación estándar\"],\n",
    "    \"avanzado\": [\"Probabilidad conjunta\", \"Teorema de Bayes\", \"Distribuciones avanzadas\"]\n",
    "}"
   ]
  },
  {
   "cell_type": "markdown",
   "id": "c06d4e51",
   "metadata": {},
   "source": [
    "# Configuracion LLM"
   ]
  },
  {
   "cell_type": "code",
   "execution_count": null,
   "id": "b2b384ca",
   "metadata": {},
   "outputs": [],
   "source": [
    "load_dotenv()\n",
    "openai_api_key = os.getenv(\"OPENAI_API_KEY\")"
   ]
  },
  {
   "cell_type": "code",
   "execution_count": null,
   "id": "787a9efe",
   "metadata": {},
   "outputs": [],
   "source": [
    "llm = ChatOpenAI(\n",
    "    model=\"o4-mini-2025-04-16\",\n",
    "    openai_api_key=openai_api_key\n",
    ")"
   ]
  },
  {
   "cell_type": "markdown",
   "id": "bb49ccb3",
   "metadata": {},
   "source": [
    "# Nodos"
   ]
  },
  {
   "cell_type": "markdown",
   "id": "8b18941c",
   "metadata": {},
   "source": [
    "## nodo_inicio"
   ]
  },
  {
   "cell_type": "code",
   "execution_count": null,
   "id": "a80e87d3",
   "metadata": {},
   "outputs": [],
   "source": [
    "prompt_clasificar = PromptTemplate(\n",
    "    input_variables=[\"input\"],\n",
    "    template=(\n",
    "        \"Clasifica el siguiente mensaje del usuario como 'modo libre' o 'modo guiado'. \"\n",
    "        \"Solo responde con una de esas dos opciones.\\n\\n\"\n",
    "        \"Mensaje: {input}\\n\"\n",
    "        \"Clasificación:\"\n",
    "    )\n",
    ")"
   ]
  },
  {
   "cell_type": "code",
   "execution_count": null,
   "id": "090f59c6",
   "metadata": {},
   "outputs": [],
   "source": [
    "classifier_chain = LLMChain(\n",
    "    llm=llm,\n",
    "    prompt=prompt_clasificar\n",
    ")"
   ]
  },
  {
   "cell_type": "code",
   "execution_count": null,
   "id": "42459a49",
   "metadata": {},
   "outputs": [],
   "source": [
    "## nodo\n",
    "def classify_mode(state):\n",
    "    user_input = state[\"input\"]\n",
    "    respuesta = classifier_chain.invoke(input=user_input)\n",
    "    modo = respuesta.get(\"text\", \"\").strip().lower()\n",
    "    if \"libre\" in modo:\n",
    "        state[\"modo\"] = \"modo libre\"\n",
    "    else:\n",
    "        state[\"modo\"] = \"modo guiado\"\n",
    "    return state"
   ]
  },
  {
   "cell_type": "code",
   "execution_count": null,
   "id": "90c4ce2d",
   "metadata": {},
   "outputs": [],
   "source": [
    "#edge\n",
    "def transicion_inicio(state: Estado):\n",
    "    if state.modo == \"modo libre\":\n",
    "        return \"quiz_nivel\"\n",
    "    else:\n",
    "        return \"libre\""
   ]
  },
  {
   "cell_type": "markdown",
   "id": "32d9a596",
   "metadata": {},
   "source": [
    "## nodo quiz_nivel"
   ]
  },
  {
   "cell_type": "code",
   "execution_count": null,
   "id": "0bf85c74",
   "metadata": {},
   "outputs": [],
   "source": [
    "prompt_quiz = ChatPromptTemplate.from_messages([\n",
    "    (\"system\",\n",
    "     \"\"\"Eres un experto en educación. Evalúa las siguientes respuestas del usuario a preguntas de probabilidad y estadística.\n",
    "Para cada respuesta, califica de 0 a 5 (donde 0 es incorrecta y 5 es perfecta), explica brevemente la calificación.\n",
    "Al final, resume las fortalezas y debilidades del usuario por tema y sugiere el nivel adecuado (básico, intermedio, avanzado) según el promedio de los puntajes:\n",
    "- Básico: promedio < 2.5\n",
    "- Intermedio: 2.5 <= promedio < 4\n",
    "- Avanzado: promedio >= 4\n",
    "\n",
    "Devuelve la respuesta SOLO en formato JSON con la siguiente estructura:\n",
    "{{\n",
    "  \"nivel\": \"basico/intermedio/avanzado\",\n",
    "  \"fortalezas\": [\"tema1\", \"tema2\", ...],\n",
    "  \"debilidades\": [\"tema1\", \"tema2\", ...],\n",
    "  \"detalle\": [\n",
    "    {{\n",
    "      \"pregunta\": \"...\",\n",
    "      \"respuesta\": \"...\",\n",
    "      \"tema\": \"...\",\n",
    "      \"puntaje\": 0-5,\n",
    "      \"feedback\": \"...\"\n",
    "    }},\n",
    "    ...\n",
    "  ]\n",
    "}}\n",
    "\n",
    "Respuestas del usuario:\n",
    "{respuestas_usuario}\n",
    "\"\"\")\n",
    "])"
   ]
  },
  {
   "cell_type": "code",
   "execution_count": null,
   "id": "67f25d4b",
   "metadata": {},
   "outputs": [],
   "source": [
    "parser = JsonOutputParser()\n",
    "chain_quiz = LLMChain(\n",
    "    llm=llm,\n",
    "    prompt=prompt_quiz,\n",
    "    output_parser=parser\n",
    ")"
   ]
  },
  {
   "cell_type": "code",
   "execution_count": null,
   "id": "66043a7c",
   "metadata": {},
   "outputs": [],
   "source": [
    "# nodo\n",
    "def nodo_quiz_nivel(state):\n",
    "    print(\"\\nVamos a hacer un quiz para conocer tu nivel.\")\n",
    "    respuestas_usuario = []\n",
    "    for nivel, preguntas in quiz_preguntas.items():\n",
    "        seleccionadas = random.sample(preguntas, 1)  # 1 aleatoria por nivel\n",
    "        for q in seleccionadas:\n",
    "            resp = input(q[\"pregunta\"] + \" (responde brevemente): \")\n",
    "            respuestas_usuario.append({\n",
    "                \"nivel\": nivel,\n",
    "                \"tema\": q[\"tema\"],\n",
    "                \"pregunta\": q[\"pregunta\"],\n",
    "                \"respuesta\": resp\n",
    "            })\n",
    "            \n",
    "    result = chain_quiz.invoke({\"respuestas_usuario\": str(respuestas_usuario)})\n",
    "    \n",
    "    data = result[\"text\"]\n",
    "    state.nivel = data[\"nivel\"]\n",
    "    state.fortalezas = data[\"fortalezas\"]\n",
    "    state.debilidades = data[\"debilidades\"]\n",
    "    state.detalle = data[\"detalle\"]\n",
    "    \n",
    "    return state"
   ]
  },
  {
   "cell_type": "markdown",
   "id": "3cafee05",
   "metadata": {},
   "source": [
    "## nodo plan_estudio"
   ]
  },
  {
   "cell_type": "code",
   "execution_count": null,
   "id": "4a50abb8",
   "metadata": {},
   "outputs": [],
   "source": [
    "##"
   ]
  },
  {
   "cell_type": "code",
   "execution_count": null,
   "id": "603a3bca",
   "metadata": {},
   "outputs": [],
   "source": []
  }
 ],
 "metadata": {
  "kernelspec": {
   "display_name": "pytorch_env",
   "language": "python",
   "name": "python3"
  },
  "language_info": {
   "codemirror_mode": {
    "name": "ipython",
    "version": 3
   },
   "file_extension": ".py",
   "mimetype": "text/x-python",
   "name": "python",
   "nbconvert_exporter": "python",
   "pygments_lexer": "ipython3",
   "version": "3.12.9"
  }
 },
 "nbformat": 4,
 "nbformat_minor": 5
}
