{
 "cells": [
  {
   "cell_type": "code",
   "execution_count": null,
   "id": "a7a2691c",
   "metadata": {},
   "outputs": [],
   "source": [
    "from langgraph.graph import StateGraph, END\n",
    "import random\n",
    "from typing_extensions import TypedDict\n",
    "from dotenv import load_dotenv\n",
    "from langchain.prompts import PromptTemplate\n",
    "from langchain_openai import ChatOpenAI\n",
    "import os\n",
    "from typing import List, Dict, Any\n",
    "from langchain.prompts import ChatPromptTemplate\n",
    "from langchain_core.output_parsers.json import JsonOutputParser\n"
   ]
  },
  {
   "cell_type": "markdown",
   "id": "84acfd61",
   "metadata": {},
   "source": [
    "# Estado"
   ]
  },
  {
   "cell_type": "code",
   "execution_count": 73,
   "id": "d690d5bb",
   "metadata": {},
   "outputs": [],
   "source": [
    "class State(TypedDict):\n",
    "    user_input: str\n",
    "    modo: str\n",
    "    respuestas: List[str]\n",
    "    pregunta_idx: int\n",
    "    feedback: Dict[str, Any]\n",
    "    nivel: str\n",
    "    fortalezas: List[str]\n",
    "    debilidades: List[str]\n",
    "    puntaje_promedio: float\n",
    "    detalle: List[Dict[str, Any]]\n",
    "    preguntas_seleccionadas: List[Dict[str, Any]]\n",
    "    temas: List[str]\n",
    "    subtemas : Dict[str, Any]\n",
    "    tema_actual : int"
   ]
  },
  {
   "cell_type": "markdown",
   "id": "e6066939",
   "metadata": {},
   "source": [
    "# Preguntas Quiz"
   ]
  },
  {
   "cell_type": "code",
   "execution_count": 74,
   "id": "cb169295",
   "metadata": {},
   "outputs": [],
   "source": [
    "quiz_preguntas = {\n",
    "    \"basico\": [\n",
    "        {\"tema\": \"Variables aleatorias\", \"pregunta\": \"¿Qué es una variable aleatoria?\"},\n",
    "        {\"tema\": \"Variables aleatorias\", \"pregunta\": \"¿Cuál es la diferencia entre una variable aleatoria discreta y continua?\"},\n",
    "        {\"tema\": \"Probabilidad\", \"pregunta\": \"¿Qué es la probabilidad clásica?\"},\n",
    "        {\"tema\": \"Probabilidad\", \"pregunta\": \"¿Qué es la probabilidad frecuentista?\"},\n",
    "        {\"tema\": \"Distribuciones simples\", \"pregunta\": \"¿Qué es una distribución uniforme?\"},\n",
    "        {\"tema\": \"Distribuciones simples\", \"pregunta\": \"¿Qué caracteriza a una distribución de probabilidad discreta?\"},\n",
    "        {\"tema\": \"Eventos\", \"pregunta\": \"¿Qué es un evento en probabilidad?\"},\n",
    "        {\"tema\": \"Eventos\", \"pregunta\": \"¿Qué significa que dos eventos sean mutuamente excluyentes?\"}\n",
    "    ],\n",
    "    \"intermedio\": [\n",
    "        {\"tema\": \"Desviación estándar\", \"pregunta\": \"¿Qué es la desviación estándar?\"},\n",
    "        {\"tema\": \"Desviación estándar\", \"pregunta\": \"¿Cómo se interpreta una desviación estándar alta o baja?\"},\n",
    "        {\"tema\": \"Medidas de dispersión\", \"pregunta\": \"¿Qué es la varianza?\"},\n",
    "        {\"tema\": \"Medidas de dispersión\", \"pregunta\": \"¿Cómo se relacionan la varianza y la desviación estándar?\"},\n",
    "        {\"tema\": \"Estadística descriptiva\", \"pregunta\": \"¿Qué es la media aritmética?\"},\n",
    "        {\"tema\": \"Estadística descriptiva\", \"pregunta\": \"¿Qué diferencia hay entre la media y la mediana?\"},\n",
    "        {\"tema\": \"Distribuciones\", \"pregunta\": \"¿Qué es una distribución normal?\"},\n",
    "        {\"tema\": \"Distribuciones\", \"pregunta\": \"¿Qué es una distribución sesgada y cómo se identifica?\"}\n",
    "    ],\n",
    "    \"avanzado\": [\n",
    "        {\"tema\": \"Probabilidad conjunta\", \"pregunta\": \"¿Cómo se calcula la probabilidad conjunta de dos eventos independientes?\"},\n",
    "        {\"tema\": \"Probabilidad conjunta\", \"pregunta\": \"¿Qué diferencia hay entre probabilidad conjunta y probabilidad condicional?\"},\n",
    "        {\"tema\": \"Teorema de Bayes\", \"pregunta\": \"Explica el teorema de Bayes con un ejemplo.\"},\n",
    "        {\"tema\": \"Teorema de Bayes\", \"pregunta\": \"¿Cómo se aplica el teorema de Bayes en problemas médicos?\"},\n",
    "        {\"tema\": \"Distribuciones avanzadas\", \"pregunta\": \"¿Qué es una distribución binomial?\"},\n",
    "        {\"tema\": \"Distribuciones avanzadas\", \"pregunta\": \"¿Qué es una distribución de Poisson y en qué casos se utiliza?\"},\n",
    "        {\"tema\": \"Inferencia\", \"pregunta\": \"¿Qué es una estimación puntual en inferencia estadística?\"},\n",
    "        {\"tema\": \"Inferencia\", \"pregunta\": \"¿Qué diferencia hay entre una estimación puntual y un intervalo de confianza?\"}\n",
    "    ]\n",
    "}\n"
   ]
  },
  {
   "cell_type": "markdown",
   "id": "c06d4e51",
   "metadata": {},
   "source": [
    "# Configuracion LLM"
   ]
  },
  {
   "cell_type": "code",
   "execution_count": 5,
   "id": "b2b384ca",
   "metadata": {},
   "outputs": [],
   "source": [
    "load_dotenv()\n",
    "openai_api_key = os.getenv(\"OPENAI_API_KEY\")"
   ]
  },
  {
   "cell_type": "code",
   "execution_count": 21,
   "id": "787a9efe",
   "metadata": {},
   "outputs": [],
   "source": [
    "llm = ChatOpenAI(model=\"o4-mini\")"
   ]
  },
  {
   "cell_type": "code",
   "execution_count": 12,
   "id": "390d196f",
   "metadata": {},
   "outputs": [
    {
     "data": {
      "text/plain": [
       "AIMessage(content='Una variable aleatoria es un concepto de probabilidad que sirve para modelar cuantitativamente el azar. De forma más precisa:\\n\\n1. Espacio muestral (Ω): conjunto de todos los posibles resultados de un experimento aleatorio (por ejemplo, caras o cruces al lanzar una moneda, o los valores de un dado).\\n\\n2. Variable aleatoria (X): función que asigna a cada resultado ω∈Ω un número real X(ω). Ese número es la “observación” o “valor” que toma la variable cuando ocurre ω.\\n\\nTipos principales  \\n• Discreta: toma un conjunto contable de valores (por ejemplo, X = número de caras al lanzar 3 monedas: {0,1,2,3}). Se describe por su función de masa de probabilidad pX(k)=P(X=k).  \\n• Continua: puede tomar cualquier valor en uno o varios intervalos de la recta. Se describe por su función de densidad fX(x), de modo que P(a≤X≤b)=∫ab fX(x)dx.\\n\\nFunciones asociadas  \\n- Función de distribución acumulada (FDA): FX(x)=P(X≤x).  \\n- Media o esperanza: E[X]=∑k k·pX(k) (discreto) ó ∫ x·fX(x)dx (continuo).  \\n- Varianza: Var(X)=E[(X–E[X])²], mide la dispersión.\\n\\nEjemplo sencillo  \\nLanzar un dado justo:  \\n• Ω={1,2,3,4,5,6}  \\n• X(ω)=ω  \\n• pX(k)=1/6 para k=1,…,6  \\n– Esperanza E[X]=3.5  \\n– Var(X)=35/12\\n\\nEn resumen, una variable aleatoria traduce resultados de un experimento incierto en valores numéricos, permitiendo así construir y estudiar modelos probabilísticos.', additional_kwargs={'refusal': None}, response_metadata={'token_usage': {'completion_tokens': 549, 'prompt_tokens': 13, 'total_tokens': 562, 'completion_tokens_details': {'accepted_prediction_tokens': 0, 'audio_tokens': 0, 'reasoning_tokens': 128, 'rejected_prediction_tokens': 0}, 'prompt_tokens_details': {'audio_tokens': 0, 'cached_tokens': 0}}, 'model_name': 'o4-mini-2025-04-16', 'system_fingerprint': None, 'id': 'chatcmpl-BOGxTtSTM5rQhzenRBzOyNJ5ApYvI', 'finish_reason': 'stop', 'logprobs': None}, id='run-d25c65ed-58c4-4982-85d3-5c584849df72-0', usage_metadata={'input_tokens': 13, 'output_tokens': 549, 'total_tokens': 562, 'input_token_details': {'audio': 0, 'cache_read': 0}, 'output_token_details': {'audio': 0, 'reasoning': 128}})"
      ]
     },
     "execution_count": 12,
     "metadata": {},
     "output_type": "execute_result"
    }
   ],
   "source": [
    "# prueba llm\n",
    "respuesta = llm.invoke(\"¿Qué es una variable aleatoria?\")\n",
    "respuesta"
   ]
  },
  {
   "cell_type": "markdown",
   "id": "bb49ccb3",
   "metadata": {},
   "source": [
    "# Nodos"
   ]
  },
  {
   "cell_type": "markdown",
   "id": "8b18941c",
   "metadata": {},
   "source": [
    "## nodo_inicio"
   ]
  },
  {
   "cell_type": "code",
   "execution_count": 78,
   "id": "42459a49",
   "metadata": {},
   "outputs": [],
   "source": [
    "## nodo\n",
    "def classify_node(state):\n",
    "    user_input = state[\"user_input\"]\n",
    "    if not user_input:\n",
    "            return {\"modo\": \"\"}\n",
    "    prompt = (\n",
    "        \"Clasifica la siguiente intención del usuario SOLO como 'guiado' o 'libre'. \"\n",
    "        \"Si el usuario quiere que lo guíes paso a paso, responde 'guiado'. \"\n",
    "        \"Si solo quiere una respuesta directa, responde 'libre'. \"\n",
    "        f\"Intención del usuario: {user_input}\\n\"\n",
    "        \"Respuesta:\"\n",
    "    )\n",
    "    respuesta = llm.invoke(prompt).content.strip().lower()\n",
    "    if \"guiado\" in respuesta:\n",
    "        modo = \"guiado\"\n",
    "    elif \"libre\" in respuesta:\n",
    "        modo = \"libre\"\n",
    "    else:\n",
    "        modo = \"libre\"\n",
    "    return {\"modo\": modo}"
   ]
  },
  {
   "cell_type": "code",
   "execution_count": 79,
   "id": "90c4ce2d",
   "metadata": {},
   "outputs": [],
   "source": [
    "#edge\n",
    "def transicion_inicio(state: State):\n",
    "    if state.modo == \"modo libre\":\n",
    "        return \"quiz_nivel\"\n",
    "    else:\n",
    "        return \"libre\""
   ]
  },
  {
   "cell_type": "code",
   "execution_count": 80,
   "id": "14f47534",
   "metadata": {},
   "outputs": [
    {
     "data": {
      "text/plain": [
       "{'modo': 'guiado'}"
      ]
     },
     "execution_count": 80,
     "metadata": {},
     "output_type": "execute_result"
    }
   ],
   "source": [
    "estado_prueba = State(\n",
    "    user_input=\"quiero que me guies paso a paso\",\n",
    "    modo=\"\",\n",
    "    respuestas=[],\n",
    "    pregunta_idx=0,\n",
    "    feedback={},\n",
    "    nivel=\"basico\",\n",
    "    fortalezas=[],\n",
    "    debilidades=[],\n",
    "    puntaje_promedio=0.0,\n",
    "    detalle=[],\n",
    "    preguntas_seleccionadas=[]\n",
    ")\n",
    "classify_node(estado_prueba)"
   ]
  },
  {
   "cell_type": "markdown",
   "id": "32d9a596",
   "metadata": {},
   "source": [
    "## nodo quiz_nivel"
   ]
  },
  {
   "cell_type": "code",
   "execution_count": 81,
   "id": "0bf85c74",
   "metadata": {},
   "outputs": [],
   "source": [
    "prompt_quiz = ChatPromptTemplate.from_messages([\n",
    "    (\"system\",\n",
    "     \"\"\"Eres un experto en educación. Evalúa las siguientes respuestas del usuario a preguntas de probabilidad y estadística.\n",
    "Para cada respuesta, califica de 0 a 5 (donde 0 es incorrecta y 5 es perfecta), explica brevemente la calificación.\n",
    "\n",
    "Devuelve la respuesta SOLO en formato JSON con la siguiente estructura:\n",
    "{{\n",
    "  \"resultados\": [puntaje1, puntaje2, ...],\n",
    "  \"detalle\": [\n",
    "    {{\n",
    "      \"pregunta\": \"...\",\n",
    "      \"respuesta\": \"...\",\n",
    "      \"tema\": \"...\",\n",
    "      \"puntaje\": 0-5,\n",
    "      \"feedback\": \"...\"\n",
    "    }},\n",
    "    ...\n",
    "  ]\n",
    "}}\n",
    "\n",
    "Respuestas del usuario:\n",
    "{respuestas_usuario}\n",
    "\"\"\")\n",
    "])"
   ]
  },
  {
   "cell_type": "code",
   "execution_count": 82,
   "id": "2d074c95",
   "metadata": {},
   "outputs": [],
   "source": [
    "parser = JsonOutputParser()\n",
    "chain_quiz = prompt_quiz | llm | parser"
   ]
  },
  {
   "cell_type": "code",
   "execution_count": 83,
   "id": "66043a7c",
   "metadata": {},
   "outputs": [],
   "source": [
    "# nodo\n",
    "def nodo_calificar(state):\n",
    "    respuestas = state.get(\"respuestas\", [])\n",
    "    preguntas_seleccionadas = state.get(\"preguntas_seleccionadas\", [])\n",
    "    respuestas_usuario = []\n",
    "    for idx, pregunta in enumerate(preguntas_seleccionadas):\n",
    "        if idx < len(respuestas):\n",
    "            respuestas_usuario.append({\n",
    "                \"pregunta\": pregunta[\"pregunta\"],\n",
    "                \"respuesta\": respuestas[idx],\n",
    "                \"tema\": pregunta[\"tema\"]\n",
    "            })\n",
    "    prompt_str = prompt_quiz.format(respuestas_usuario=str(respuestas_usuario))\n",
    "    data = chain_quiz.invoke(prompt_str)\n",
    "\n",
    "    resultados = data.get(\"resultados\", [])\n",
    "    detalle = data.get(\"detalle\", [])\n",
    "    promedio = sum(resultados) / len(resultados) if resultados else 0\n",
    "    promedio = round(promedio, 2)\n",
    "    fortalezas = [d[\"tema\"] for d in detalle if d[\"puntaje\"] >= 4]\n",
    "    debilidades = [d[\"tema\"] for d in detalle if d[\"puntaje\"] < 4]\n",
    "    state[\"feedback\"] = data\n",
    "    state[\"fortalezas\"] = list(set(state.get(\"fortalezas\", []) + fortalezas))\n",
    "    state[\"debilidades\"] = list(set(state.get(\"debilidades\", []) + debilidades))\n",
    "    state[\"puntaje_promedio\"] = promedio\n",
    "    state[\"detalle\"] = detalle\n",
    "    return state"
   ]
  },
  {
   "cell_type": "code",
   "execution_count": 84,
   "id": "fc5c63cd",
   "metadata": {},
   "outputs": [
    {
     "name": "stdout",
     "output_type": "stream",
     "text": [
      "\n",
      "Resultados actualizados:\n",
      "Puntaje promedio: 5.0\n",
      "Fortalezas: ['Fundamentos de Python', 'Conceptos Básicos', 'Estructuras de Control']\n",
      "Debilidades: []\n",
      "Detalle: [{'pregunta': '¿Qué es Python?', 'respuesta': 'Python es un lenguaje de programación interpretado', 'tema': 'Fundamentos de Python', 'puntaje': 5, 'feedback': 'Definición precisa y completa de Python como lenguaje interpretado.'}, {'pregunta': '¿Para qué se usa un bucle for?', 'respuesta': 'Un bucle for se usa para iterar sobre una secuencia', 'tema': 'Estructuras de Control', 'puntaje': 5, 'feedback': 'Explicación correcta y clara del propósito de un bucle for.'}, {'pregunta': '¿Qué es una variable?', 'respuesta': 'Una variable es un espacio en memoria que almacena datos', 'tema': 'Conceptos Básicos', 'puntaje': 5, 'feedback': 'Descripción exacta de una variable y su función en programación.'}]\n"
     ]
    }
   ],
   "source": [
    "estado_prueba = State(\n",
    "    user_input=\"quiero que me guies paso a paso\",\n",
    "    modo=\"modo guiado\",\n",
    "    # Lista de respuestas del usuario\n",
    "    respuestas=[\"Python es un lenguaje de programación interpretado\",\n",
    "                \"Un bucle for se usa para iterar sobre una secuencia\",\n",
    "                \"Una variable es un espacio en memoria que almacena datos\"],\n",
    "\n",
    "    pregunta_idx=3,  # Indica que ya se respondieron 3 preguntas\n",
    "\n",
    "    # Las preguntas que fueron seleccionadas y respondidas\n",
    "    preguntas_seleccionadas=[\n",
    "        {\n",
    "            \"pregunta\": \"¿Qué es Python?\",\n",
    "            \"tema\": \"Fundamentos de Python\",\n",
    "            \"respuesta_correcta\": \"Python es un lenguaje de programación interpretado de alto nivel\"\n",
    "        },\n",
    "        {\n",
    "            \"pregunta\": \"¿Para qué se usa un bucle for?\",\n",
    "            \"tema\": \"Estructuras de Control\",\n",
    "            \"respuesta_correcta\": \"Un bucle for se utiliza para iterar sobre una secuencia de elementos\"\n",
    "        },\n",
    "        {\n",
    "            \"pregunta\": \"¿Qué es una variable?\",\n",
    "            \"tema\": \"Conceptos Básicos\",\n",
    "            \"respuesta_correcta\": \"Una variable es un espacio en memoria que almacena un valor\"\n",
    "        }\n",
    "    ],\n",
    "\n",
    "    feedback={},  # Se llenará después de la calificación\n",
    "    nivel=\"basico\",\n",
    "    fortalezas=[],  # Se llenará después de la calificación\n",
    "    debilidades=[],  # Se llenará después de la calificación\n",
    "    puntaje_promedio=0.0,  # Se calculará después de la calificación\n",
    "    detalle=[]  # Se llenará después de la calificación\n",
    ")\n",
    "\n",
    "# Probar el nodo\n",
    "estado_actualizado = nodo_calificar(estado_prueba)\n",
    "\n",
    "# Imprimir los resultados actualizados\n",
    "print(\"\\nResultados actualizados:\")\n",
    "print(f\"Puntaje promedio: {estado_actualizado['puntaje_promedio']}\")\n",
    "print(f\"Fortalezas: {estado_actualizado['fortalezas']}\")\n",
    "print(f\"Debilidades: {estado_actualizado['debilidades']}\")\n",
    "print(f\"Detalle: {estado_actualizado['detalle']}\")\n"
   ]
  },
  {
   "cell_type": "markdown",
   "id": "3cafee05",
   "metadata": {},
   "source": [
    "## nodo plan_estudio"
   ]
  },
  {
   "cell_type": "code",
   "execution_count": 85,
   "id": "603a3bca",
   "metadata": {},
   "outputs": [],
   "source": [
    "def nodo_plan_estudio(state: State):\n",
    "    # Corregido: usar [] en lugar de .\n",
    "    debilidades = state[\"debilidades\"]\n",
    "    debilidades_str = \", \".join(debilidades)\n",
    "    print(f\"Debilidades: {debilidades_str}\")\n",
    "\n",
    "    prompt_plan = ChatPromptTemplate.from_template(\n",
    "        \"\"\"\n",
    "    Eres un tutor experto en estadística y probabilidad.\n",
    "    El estudiante tiene el nivel: {nivel}.\n",
    "    Sus debilidades principales son: {debilidades}.\n",
    "\n",
    "    Crea un plan de estudio personalizado y devuélvelo SOLO en formato JSON con EXACTAMENTE esta estructura:\n",
    "    {{\n",
    "        \"plan_estudio\": {{\n",
    "            \"tema1\": {{\n",
    "                \"nombre\": \"Nombre del Tema 1\",\n",
    "                \"subtemas\": [\n",
    "                    \"Subtema 1.1\",\n",
    "                    \"Subtema 1.2\",\n",
    "                    \"Subtema 1.3\",\n",
    "                    \"Subtema 1.4\"\n",
    "                ]\n",
    "            }},\n",
    "            \"tema2\": {{\n",
    "                \"nombre\": \"Nombre del Tema 2\",\n",
    "                \"subtemas\": [\n",
    "                    \"Subtema 2.1\",\n",
    "                    \"Subtema 2.2\",\n",
    "                    \"Subtema 2.3\",\n",
    "                    \"Subtema 2.4\"\n",
    "                ]\n",
    "            }},\n",
    "            \"tema3\": {{\n",
    "                \"nombre\": \"Nombre del Tema 3\",\n",
    "                \"subtemas\": [\n",
    "                    \"Subtema 3.1\",\n",
    "                    \"Subtema 3.2\",\n",
    "                    \"Subtema 3.3\",\n",
    "                    \"Subtema 3.4\"\n",
    "                ]\n",
    "            }}\n",
    "        }}\n",
    "    }}\n",
    "\n",
    "    Los temas deben enfocarse en las debilidades mencionadas.\n",
    "    Cada tema DEBE tener exactamente 4 subtemas.\n",
    "    IMPORTANTE: Devuelve SOLO el JSON, sin texto adicional.\n",
    "    \"\"\"\n",
    "    )\n",
    "\n",
    "    parser = JsonOutputParser()\n",
    "    chain = prompt_plan | llm | parser\n",
    "\n",
    "    # Corregido: usar [] para acceder a los elementos\n",
    "    respuesta = chain.invoke({\n",
    "        \"nivel\": state[\"nivel\"],\n",
    "        \"debilidades\": debilidades_str\n",
    "    })\n",
    "\n",
    "    plan = respuesta[\"plan_estudio\"]\n",
    "    state_actualizado = state.copy()\n",
    "\n",
    "    # Actualizar el estado con la información del plan\n",
    "    temas = []\n",
    "    subtemas = {}\n",
    "\n",
    "    for tema_key, tema_data in plan.items():\n",
    "        nombre_tema = tema_data[\"nombre\"]\n",
    "        temas.append(nombre_tema)\n",
    "        subtemas[nombre_tema] = tema_data[\"subtemas\"]\n",
    "\n",
    "    state_actualizado[\"temas\"] = temas\n",
    "    state_actualizado[\"subtemas\"] = subtemas\n",
    "    state_actualizado[\"tema_actual\"] = 0\n",
    "\n",
    "    # Imprimir el plan de forma legible\n",
    "    print(\"\\nPlan de estudio personalizado:\")\n",
    "    for i, tema in enumerate(temas, 1):\n",
    "        print(f\"\\n{i}. {tema}\")\n",
    "        for subtema in subtemas[tema]:\n",
    "            print(f\"   • {subtema}\")\n",
    "\n",
    "    return state_actualizado"
   ]
  },
  {
   "cell_type": "code",
   "execution_count": 86,
   "id": "7278b925",
   "metadata": {},
   "outputs": [],
   "source": [
    "# Ejemplo de uso\n",
    "estado_inicial = State(\n",
    "    user_input=\"\",\n",
    "    modo=\"guiado\",\n",
    "    respuestas=[],\n",
    "    pregunta_idx=0,\n",
    "    feedback={},\n",
    "    nivel=\"intermedio\",\n",
    "    fortalezas=[],\n",
    "    debilidades=[\"probabilidad condicional\", \"distribuciones\", \"teorema de Bayes\"],\n",
    "    puntaje_promedio=0.0,\n",
    "    detalle=[],\n",
    "    preguntas_seleccionadas=[],\n",
    "    temas=[],\n",
    "    subtemas={},\n",
    "    tema_actual=0\n",
    ")"
   ]
  },
  {
   "cell_type": "code",
   "execution_count": 87,
   "id": "6f322a27",
   "metadata": {},
   "outputs": [
    {
     "name": "stdout",
     "output_type": "stream",
     "text": [
      "Debilidades: probabilidad condicional, distribuciones, teorema de Bayes\n",
      "\n",
      "Plan de estudio personalizado:\n",
      "\n",
      "1. Probabilidad Condicional\n",
      "   • Definición y fórmula de P(A|B)\n",
      "   • Regla de la multiplicación\n",
      "   • Teorema de la probabilidad total\n",
      "   • Ejemplos prácticos con árboles de probabilidad\n",
      "\n",
      "2. Distribuciones de Probabilidad\n",
      "   • Distribuciones discretas: Binomial y Poisson\n",
      "   • Distribuciones continuas: Uniforme y Normal\n",
      "   • Función de densidad y función de distribución acumulada\n",
      "   • Cálculo de esperanza y varianza\n",
      "\n",
      "3. Teorema de Bayes\n",
      "   • Derivación de la fórmula de Bayes\n",
      "   • Priori, verosimilitud y posteriori\n",
      "   • Aplicaciones en diagnósticos médicos\n",
      "   • Resolución de problemas complejos\n"
     ]
    },
    {
     "data": {
      "text/plain": [
       "{'user_input': '',\n",
       " 'modo': 'guiado',\n",
       " 'respuestas': [],\n",
       " 'pregunta_idx': 0,\n",
       " 'feedback': {},\n",
       " 'nivel': 'intermedio',\n",
       " 'fortalezas': [],\n",
       " 'debilidades': ['probabilidad condicional',\n",
       "  'distribuciones',\n",
       "  'teorema de Bayes'],\n",
       " 'puntaje_promedio': 0.0,\n",
       " 'detalle': [],\n",
       " 'preguntas_seleccionadas': [],\n",
       " 'temas': ['Probabilidad Condicional',\n",
       "  'Distribuciones de Probabilidad',\n",
       "  'Teorema de Bayes'],\n",
       " 'subtemas': {'Probabilidad Condicional': ['Definición y fórmula de P(A|B)',\n",
       "   'Regla de la multiplicación',\n",
       "   'Teorema de la probabilidad total',\n",
       "   'Ejemplos prácticos con árboles de probabilidad'],\n",
       "  'Distribuciones de Probabilidad': ['Distribuciones discretas: Binomial y Poisson',\n",
       "   'Distribuciones continuas: Uniforme y Normal',\n",
       "   'Función de densidad y función de distribución acumulada',\n",
       "   'Cálculo de esperanza y varianza'],\n",
       "  'Teorema de Bayes': ['Derivación de la fórmula de Bayes',\n",
       "   'Priori, verosimilitud y posteriori',\n",
       "   'Aplicaciones en diagnósticos médicos',\n",
       "   'Resolución de problemas complejos']},\n",
       " 'tema_actual': 0}"
      ]
     },
     "execution_count": 87,
     "metadata": {},
     "output_type": "execute_result"
    }
   ],
   "source": [
    "nodo_plan_estudio(estado_inicial)"
   ]
  },
  {
   "cell_type": "markdown",
   "id": "3d29348d",
   "metadata": {},
   "source": [
    "# Nodo explicacion (RAG)"
   ]
  },
  {
   "cell_type": "markdown",
   "id": "00a1ffef",
   "metadata": {},
   "source": [
    "## Toca hacer que solo explique un tema que lo devuelva en formato mark down, y que luego la UI le vaya pasando 1 a 1 los temas segun avanza el ciclo"
   ]
  },
  {
   "cell_type": "code",
   "execution_count": 7,
   "id": "bd65e526",
   "metadata": {},
   "outputs": [],
   "source": [
    "ejemplo_documentos_rag = [\n",
    "    \"\"\"\n",
    "    La probabilidad condicional es la probabilidad de que ocurra un evento A,\n",
    "    sabiendo que también ha ocurrido otro evento B. Se denota como P(A|B) y\n",
    "    se calcula como: P(A|B) = P(A∩B) / P(B)\n",
    "\n",
    "    La regla de la cadena establece que: P(A∩B) = P(A|B) × P(B)\n",
    "    \"\"\",\n",
    "\n",
    "    \"\"\"\n",
    "    El Teorema de Bayes es una herramienta fundamental que relaciona las\n",
    "    probabilidades condicionales de dos eventos. Su fórmula es:\n",
    "    P(A|B) = P(B|A) × P(A) / P(B)\n",
    "\n",
    "    Este teorema es especialmente útil cuando tenemos probabilidades previas\n",
    "    y queremos actualizar nuestro conocimiento con nueva información.\n",
    "    \"\"\",\n",
    "\n",
    "    \"\"\"\n",
    "    Los árboles de probabilidad son herramientas visuales que ayudan a\n",
    "    resolver problemas de probabilidad condicional. Cada rama representa\n",
    "    un evento y sus probabilidades asociadas.\n",
    "    \"\"\"\n",
    "]"
   ]
  },
  {
   "cell_type": "code",
   "execution_count": 17,
   "id": "d0466c8a",
   "metadata": {},
   "outputs": [],
   "source": [
    "from langchain.vectorstores import Chroma  # o cualquier otra base de vectores\n",
    "from langchain.embeddings import OpenAIEmbeddings  # o tus embeddings preferidos\n",
    "\n",
    "# Configuración del RAG\n",
    "embeddings = OpenAIEmbeddings()\n",
    "vectorstore = Chroma(embedding_function=embeddings)\n",
    "\n",
    "# Cargar los documentos (solo una vez)\n",
    "vectorstore.add_texts(ejemplo_documentos_rag)\n",
    "\n",
    "# Crear el retriever estándar de LangChain\n",
    "retriever = vectorstore.as_retriever()"
   ]
  },
  {
   "cell_type": "code",
   "execution_count": 23,
   "id": "05382fd7",
   "metadata": {},
   "outputs": [],
   "source": [
    "class AgenteExplicador:\n",
    "    def __init__(self, rag_retriever, llm):\n",
    "        self.retriever = rag_retriever\n",
    "        self.llm = llm\n",
    "\n",
    "    def construir_query(self, tema, subtemas):\n",
    "        subtemas_str = \"\\n\".join([f\"- {s}\" for s in subtemas])\n",
    "        return f\"\"\"\n",
    "        Necesito información detallada sobre {tema}, específicamente:\n",
    "        {subtemas_str}\n",
    "        Incluye definiciones, fórmulas y ejemplos prácticos.\n",
    "        \"\"\"\n",
    "\n",
    "    def construir_prompt_llm(self, tema, subtemas, contexto_rag):\n",
    "        estructura = \"\"\n",
    "        for i, subtema in enumerate(subtemas, 1):\n",
    "            estructura += f\"\"\"{i}. {subtema}\n",
    "   - Definición\n",
    "   - Fórmulas clave (si aplica)\n",
    "   - Ejemplo práctico\n",
    "\n",
    "\"\"\"\n",
    "        return f\"\"\"\n",
    "Eres un tutor experto en estadística y probabilidad.\n",
    "\n",
    "CONTEXTO RECUPERADO:\n",
    "{contexto_rag}\n",
    "\n",
    "TAREA:\n",
    "Explica el tema \"{tema}\" de manera clara y estructurada.\n",
    "\n",
    "ESTRUCTURA REQUERIDA:\n",
    "{estructura}\n",
    "INSTRUCCIONES:\n",
    "- Usa un lenguaje claro y accesible\n",
    "- Incluye fórmulas matemáticas cuando sea necesario\n",
    "- Proporciona ejemplos sencillos para cada concepto\n",
    "- Relaciona los conceptos entre sí cuando sea relevante\n",
    "\"\"\"\n",
    "\n",
    "    def explicar_tema(self, tema, subtemas):\n",
    "        # 1. Construir y ejecutar query para RAG\n",
    "        query = self.construir_query(tema, subtemas)\n",
    "        print(\"\\nQuery para RAG:\")\n",
    "        print(query)\n",
    "\n",
    "        # 2. Obtener documentos relevantes usando el retriever estándar\n",
    "        documentos = self.retriever.get_relevant_documents(query)\n",
    "        contexto = \"\\n\\n\".join([doc.page_content for doc in documentos])\n",
    "        print(\"\\nDocumentos recuperados:\", len(documentos))\n",
    "\n",
    "        # 3. Construir prompt para el LLM\n",
    "        prompt_final = self.construir_prompt_llm(tema, subtemas, contexto)\n",
    "        print(\"\\nPrompt para LLM construido\")\n",
    "\n",
    "        # 4. Generar explicación\n",
    "        explicacion = self.llm.invoke(prompt_final)\n",
    "        return explicacion\n"
   ]
  },
  {
   "cell_type": "code",
   "execution_count": 24,
   "id": "4473540e",
   "metadata": {},
   "outputs": [
    {
     "name": "stdout",
     "output_type": "stream",
     "text": [
      "\n",
      "Query para RAG:\n",
      "\n",
      "        Necesito información detallada sobre Probabilidad condicional, específicamente:\n",
      "        - Teorema de Bayes\n",
      "- probabilidad\n",
      "        Incluye definiciones, fórmulas y ejemplos prácticos.\n",
      "        \n",
      "\n",
      "Documentos recuperados: 4\n",
      "\n",
      "Prompt para LLM construido\n",
      "\n",
      "Explicación generada:\n",
      "content='1. Teorema de Bayes  \\n   - Definición  \\n     El Teorema de Bayes permite “invertir” una probabilidad condicional. Nos dice cómo actualizar la probabilidad de una hipótesis A (por ejemplo, tener una enfermedad) cuando disponemos de nueva evidencia B (por ejemplo, un resultado positivo en un test).  \\n   - Fórmulas clave  \\n     1) P(A|B) = [P(B|A) · P(A)] / P(B)  \\n     2) Si las hipótesis A₁, A₂,…, Aₙ son exhaustivas y mutuamente excluyentes,  \\n        P(Aᵢ|B) = [P(B|Aᵢ) · P(Aᵢ)] / Σⱼ P(B|Aⱼ)·P(Aⱼ)  \\n   - Ejemplo práctico  \\n     Supongamos un test de cáncer con:  \\n       • Prevalencia P(C) = 1% = 0,01  \\n       • Sensibilidad P(Pos|C) = 0,99  \\n       • Especificidad P(Neg|¬C) = 0,95 ⇒ P(Pos|¬C) = 0,05  \\n     \\n     Queremos P(C|Pos), la probabilidad de tener cáncer dado un resultado positivo:  \\n     1) Calcular P(Pos):  \\n        P(Pos) = P(Pos|C)·P(C) + P(Pos|¬C)·P(¬C)  \\n               = 0,99·0,01 + 0,05·0,99 = 0,0099 + 0,0495 = 0,0594  \\n     2) Aplicar Bayes:  \\n        P(C|Pos) = [0,99·0,01] / 0,0594 ≈ 0,167 = 16,7%  \\n     \\n     Aun con un test muy bueno, la baja prevalencia reduce mucho la probabilidad real de enfermedad tras un positivo.  \\n\\n2. Probabilidad condicional  \\n   - Definición  \\n     La probabilidad condicional P(A|B) es la probabilidad de que ocurra A, dadas las condiciones de que B ya ocurrió.  \\n   - Fórmulas clave  \\n     1) P(A|B) = P(A ∩ B) / P(B), siempre que P(B) > 0.  \\n     2) Regla de la cadena (o multiplicación):  \\n        P(A ∩ B) = P(A|B) · P(B) = P(B|A) · P(A)  \\n   - Ejemplo práctico  \\n     Bolsa con 5 bolas: 3 verdes (V) y 2 rojas (R).  \\n     Sacamos una bola sin mirar y luego, sin devolverla, sacamos otra.  \\n     • A = “segunda bola es roja”  \\n     • B = “primera bola fue roja”  \\n     \\n     1) P(B) = probabilidad de que la primera sea roja = 2/5  \\n     2) P(A ∩ B) = prob. de (R en 1.ª y R en 2.ª)  \\n        = (2/5) · (1/4) = 2/20 = 1/10  \\n     3) P(A|B) = P(A ∩ B) / P(B) = (1/10) / (2/5) = (1/10)·(5/2) = 1/4 = 0,25  \\n     \\n     Es decir, si ya sacamos una roja, quedan 4 bolas con 1 sola roja, de modo que P(segunda roja | primera roja) = 1/4.  \\n\\nRelación entre ambos conceptos  \\n- La fórmula general P(A ∩ B) = P(A|B)·P(B) es la base de Bayes.  \\n- Bayes “da la vuelta” a la condicional: de P(B|A) y P(A) obtenemos P(A|B).  \\n- Ambos son esenciales para problemas de inferencia y actualización de creencias.' additional_kwargs={'refusal': None} response_metadata={'token_usage': {'completion_tokens': 1469, 'prompt_tokens': 491, 'total_tokens': 1960, 'completion_tokens_details': {'accepted_prediction_tokens': 0, 'audio_tokens': 0, 'reasoning_tokens': 576, 'rejected_prediction_tokens': 0}, 'prompt_tokens_details': {'audio_tokens': 0, 'cached_tokens': 0}}, 'model_name': 'o4-mini-2025-04-16', 'system_fingerprint': None, 'id': 'chatcmpl-BOI174EESnaJbNX7RrzfVUihDIhjV', 'finish_reason': 'stop', 'logprobs': None} id='run-42acd3f8-4792-453a-afe2-c56110476167-0' usage_metadata={'input_tokens': 491, 'output_tokens': 1469, 'total_tokens': 1960, 'input_token_details': {'audio': 0, 'cache_read': 0}, 'output_token_details': {'audio': 0, 'reasoning': 576}}\n"
     ]
    }
   ],
   "source": [
    "tema_ejemplo = \"Probabilidad condicional\"\n",
    "subtemas_ejemplo = [\"Teorema de Bayes\", \"probabilidad\"]\n",
    "\n",
    "agente = AgenteExplicador(retriever, llm)\n",
    "explicacion = agente.explicar_tema(tema_ejemplo, subtemas_ejemplo)\n",
    "print(\"\\nExplicación generada:\")\n",
    "print(explicacion)"
   ]
  },
  {
   "cell_type": "markdown",
   "id": "4a38d3d8",
   "metadata": {},
   "source": [
    "# Nodo respuestas (RAG)"
   ]
  },
  {
   "cell_type": "code",
   "execution_count": null,
   "id": "635fa32a",
   "metadata": {},
   "outputs": [],
   "source": []
  },
  {
   "cell_type": "markdown",
   "id": "6c4272f3",
   "metadata": {},
   "source": [
    "# Tools"
   ]
  },
  {
   "cell_type": "markdown",
   "id": "d906af5a",
   "metadata": {},
   "source": []
  }
 ],
 "metadata": {
  "kernelspec": {
   "display_name": ".venv",
   "language": "python",
   "name": "python3"
  },
  "language_info": {
   "codemirror_mode": {
    "name": "ipython",
    "version": 3
   },
   "file_extension": ".py",
   "mimetype": "text/x-python",
   "name": "python",
   "nbconvert_exporter": "python",
   "pygments_lexer": "ipython3",
   "version": "3.11.9"
  }
 },
 "nbformat": 4,
 "nbformat_minor": 5
}
